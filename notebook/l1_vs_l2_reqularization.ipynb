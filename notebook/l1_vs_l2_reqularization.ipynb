{
 "cells": [
  {
   "cell_type": "markdown",
   "id": "233a639d",
   "metadata": {},
   "source": [
    "# Importing Libraries"
   ]
  },
  {
   "cell_type": "code",
   "execution_count": 19,
   "id": "999ab16a",
   "metadata": {},
   "outputs": [],
   "source": [
    "import pandas as pd \n",
    "import numpy as np \n",
    "from sklearn.datasets import make_regression\n",
    "from sklearn.metrics import mean_squared_error, r2_score, accuracy_score\n",
    "from sklearn.model_selection import train_test_split\n",
    "from sklearn.linear_model import LinearRegression, Lasso, Ridge\n",
    "import matplotlib.pyplot as plt \n",
    "from sklearn.svm import SVR, LinearSVC, LinearSVR\n",
    "from sklearn.ensemble import RandomForestRegressor\n",
    "from xgboost import XGBRegressor\n",
    "from lightgbm import LGBMRegressor\n",
    "import warnings\n",
    "warnings.filterwarnings(\"ignore\")\n",
    "from tensorflow.keras.layers import Dense\n",
    "from tensorflow.keras.models import Sequential\n",
    "from tensorflow.keras import regularizers"
   ]
  },
  {
   "cell_type": "markdown",
   "id": "72b8cf8d",
   "metadata": {},
   "source": [
    "# 🎯 1. Generate Dataset (10 features, only 3 useful)"
   ]
  },
  {
   "cell_type": "code",
   "execution_count": 2,
   "id": "0c4c2358",
   "metadata": {},
   "outputs": [],
   "source": [
    "X,y,true_coefs = make_regression(n_samples = 1000, n_features = 10, n_informative = 3, coef=True, noise=15)"
   ]
  },
  {
   "cell_type": "markdown",
   "id": "2d6789b3",
   "metadata": {},
   "source": [
    "## 🔹 n_samples = 1000\n",
    "\n",
    "**What it means:** You're generating 1000 data points (rows in X).\n",
    "\n",
    "**Why it matters:** More samples → more realistic training set.\n",
    "\n",
    "## 🔹 n_features = 10\n",
    "\n",
    "**What it means:** The dataset will have 10 input features (columns in X).\n",
    "\n",
    "**Why it matters:** This defines the dimensionality of your input space. In this case, each sample has 10 variables.\n",
    "\n",
    "## 🔹 n_informative=3\n",
    "\n",
    "**What it means:** Out of the 10 features, only 3 are actually useful for predicting the target y.\n",
    "\n",
    "**Why it matters:** The remaining 7 features are noise — they don’t help predict y, and are there to simulate real-world data with irrelevant features.\n",
    "\n",
    "## 🔹 coef=True\n",
    "\n",
    "**What it means:** The function will return the true underlying coefficients used to generate the target y.\n",
    "\n",
    "### Why Do We Compare Coefficients?\n",
    "\n",
    "When you're using models like Linear Regression, Lasso, or Ridge, the model learns a coefficient (weight) for each feature — this tells you:\n",
    "\n",
    "How much each feature contributes to the prediction.\n",
    "\n",
    "🔸 If a coefficient is large (positive or negative):\n",
    "That feature has a big impact on the target y.\n",
    "\n",
    "🔸 If a coefficient is near zero:\n",
    "That feature has little to no impact on the target.\n",
    "\n",
    "In Lasso, it might even be exactly zero → Feature eliminated!\n",
    "\n",
    "model.coef_ = [0.0, 0.0, 42.3, -21.5, 0.0, 15.2, 0.0, 0.0, 0.0, 5.6]\n",
    "\n",
    "**This means:**\n",
    "\n",
    "    Feature 2 has a strong positive relationship with the target\n",
    "\n",
    "    Feature 3 has a strong negative relationship\n",
    "\n",
    "    Feature 5 and 9 have moderate influence\n",
    "\n",
    "    Others have almost no effect\n",
    "\n",
    "**In Lasso:**\n",
    "\n",
    "**Zero coefficients** → features dropped automatically (built-in feature selection)\n",
    "\n",
    "**Why it matters:** You can use true_coefs to compare with the coefficients learned by your model (like Lasso or Ridge), and visualize sparsity or weight shrinkage.\n",
    "\n",
    "## 🔹 noise=15\n",
    "\n",
    "**What it means:**\n",
    "\n",
    "Adds Gaussian noise with standard deviation = 15 to the output y.\n",
    "\n",
    "**Why it matters:** \n",
    "\n",
    "This simulates measurement error or randomness in real-world target values. Higher noise makes the problem harder.\n",
    "\n",
    "**In simple words:**\n",
    "\n",
    "It simulates real-world measurement error or natural variability in the data.\n",
    "\n",
    "**🔍 What does it do?**\n",
    "\n",
    "When make_regression() generates the target y, it does something like this:\n",
    "\n",
    "**y = X @ true_coefs + random_noise**\n",
    "\n",
    "That random_noise part is controlled by the noise parameter. It’s Gaussian (normal) noise with a mean of 0 and standard deviation = noise.\n",
    "\n",
    "**noise = 15**\n",
    "\n",
    "Random values with standard deviation 15 are added to y.\n",
    "\n",
    "Now y is not perfectly predictable.\n",
    "\n",
    "R² will be < 1.0, depending on how much noise was added.\n",
    "\n",
    "### 🧠 Why Add Noise?\n",
    "\n",
    "**Reason\tExplanation**\n",
    "\n",
    "🧪 Make it realistic\tIn real life, target values always have randomness or measurement error.\n",
    "\n",
    "🧠 Test model robustness\tCan your model still learn the correct pattern in the presence of noise?\n",
    "\n",
    "🧹 Test regularization\tL1/L2 regularization helps when data is noisy — by preventing overfitting.\n",
    "\n",
    "🎯 Simulate challenges\tHigh noise = harder problem. Great for benchmarking different models.\n"
   ]
  },
  {
   "cell_type": "markdown",
   "id": "c5bf74a5",
   "metadata": {},
   "source": [
    "# Split data"
   ]
  },
  {
   "cell_type": "code",
   "execution_count": 3,
   "id": "2ec9b03a",
   "metadata": {},
   "outputs": [],
   "source": [
    "X_train, X_test, y_train, y_test = train_test_split(X,y, test_size=0.2, random_state=42)"
   ]
  },
  {
   "cell_type": "markdown",
   "id": "9cb5a07e",
   "metadata": {},
   "source": [
    "# 🔵 2. Linear Regression (No Regularization)"
   ]
  },
  {
   "cell_type": "code",
   "execution_count": 4,
   "id": "05454682",
   "metadata": {},
   "outputs": [
    {
     "data": {
      "text/plain": [
       "{'Model': 'Linear Regression',\n",
       " 'MSE': 214.96021109800387,\n",
       " 'R^2': 0.9717562963725707,\n",
       " 'coef': array([-6.92862627e-03,  3.31087938e-01,  5.31124930e+01, -1.02279087e-01,\n",
       "         3.12910019e+01,  5.29129741e-01, -8.46240484e-01,  5.62894307e+01,\n",
       "         2.71263581e-01, -1.29286882e+00])}"
      ]
     },
     "execution_count": 4,
     "metadata": {},
     "output_type": "execute_result"
    }
   ],
   "source": [
    "linear_model = LinearRegression()\n",
    "linear_model.fit(X_train, y_train)\n",
    "y_pred_linear = linear_model.predict(X_test)\n",
    "\n",
    "linear_result = {\n",
    "    \"Model\": \"Linear Regression\",\n",
    "    \"MSE\": mean_squared_error(y_test, y_pred_linear),\n",
    "    \"R^2\": r2_score(y_test, y_pred_linear),\n",
    "    \"coef\": linear_model.coef_\n",
    "}\n",
    "linear_result"
   ]
  },
  {
   "cell_type": "markdown",
   "id": "c844c02f",
   "metadata": {},
   "source": [
    "# 🟢 3. Lasso Regression (L1 Regularization)\n",
    "\n",
    "* Encourages some weights to become exactly zero ⇒ Feature selection. look into **lasso_result[\"coef\"]**\n",
    "\n",
    "**Useful when:**\n",
    "\n",
    "* You suspect only a few features are relevant.\n",
    "\n",
    "* You want a simpler, more interpretable model."
   ]
  },
  {
   "cell_type": "code",
   "execution_count": 5,
   "id": "766294ab",
   "metadata": {},
   "outputs": [
    {
     "data": {
      "text/plain": [
       "{'Model': 'Lasso(l1)',\n",
       " 'MSE': 1466.6817706037411,\n",
       " 'R^2': 0.47127872872173726,\n",
       " 'coef': array([-0.        ,  0.        , 34.20593621, -0.        , 10.61564163,\n",
       "         0.        , -0.        , 36.06334563, -0.        , -0.        ])}"
      ]
     },
     "execution_count": 5,
     "metadata": {},
     "output_type": "execute_result"
    }
   ],
   "source": [
    "# lasso_model = Lasso(alpha=0.1) # alpha=0.1 controls the strength of regularization:\n",
    "\n",
    "                               # Higher alpha → more aggressive regularization (more coefficients shrink to 0).\n",
    "\n",
    "                               # Lower alpha → behaves more like Linear Regression.\n",
    "lasso_model = Lasso(alpha=20)\n",
    "lasso_model.fit(X_train, y_train)\n",
    "y_pred_lasso = lasso_model.predict(X_test)\n",
    "\n",
    "lasso_result = {\n",
    "    \"Model\": \"Lasso(l1)\",\n",
    "    \"MSE\": mean_squared_error(y_pred_lasso, y_test),\n",
    "    \"R^2\": r2_score(y_pred_lasso, y_test),\n",
    "    \"coef\": lasso_model.coef_\n",
    "}\n",
    "lasso_result"
   ]
  },
  {
   "cell_type": "markdown",
   "id": "c178060c",
   "metadata": {},
   "source": [
    "# 🔴 4. Ridge Regression (L2 Regularization)\n",
    "* Shrinks all coefficients but doesn’t eliminate them ⇒ No feature selection. look in **ridge_result[\"coef\"]**\n",
    "\n",
    "**Useful when:**\n",
    "\n",
    "* All features may contribute a little.\n",
    "\n",
    "* You want to reduce multicollinearity."
   ]
  },
  {
   "cell_type": "code",
   "execution_count": 6,
   "id": "a9b42095",
   "metadata": {},
   "outputs": [
    {
     "data": {
      "text/plain": [
       "{'Model': 'Ridge(l2)',\n",
       " 'MSE': 218.18127970078837,\n",
       " 'R^2': 0.971333078947746,\n",
       " 'coef': array([-0.06077323,  0.36355416, 51.85911489, -0.10877082, 30.48520384,\n",
       "         0.52080173, -0.87714172, 54.92983284,  0.163749  , -1.27874551])}"
      ]
     },
     "execution_count": 6,
     "metadata": {},
     "output_type": "execute_result"
    }
   ],
   "source": [
    "ridge_model = Ridge(alpha=20)\n",
    "ridge_model.fit(X_train, y_train)\n",
    "y_pred_ridge = ridge_model.predict(X_test)\n",
    "\n",
    "ridge_result = {\n",
    "    \"Model\": \"Ridge(l2)\",\n",
    "    \"MSE\": mean_squared_error(y_pred_ridge, y_test),\n",
    "    \"R^2\": r2_score(y_test, y_pred_ridge),\n",
    "    \"coef\": ridge_model.coef_\n",
    "}\n",
    "ridge_result"
   ]
  },
  {
   "cell_type": "markdown",
   "id": "c86a0335",
   "metadata": {},
   "source": [
    "# 📊 5. Combine and Compare Results"
   ]
  },
  {
   "cell_type": "code",
   "execution_count": 7,
   "id": "91815e0c",
   "metadata": {},
   "outputs": [
    {
     "name": "stdout",
     "output_type": "stream",
     "text": [
      "🔍 Model Performance Comparison:\n"
     ]
    },
    {
     "data": {
      "text/html": [
       "<div>\n",
       "<style scoped>\n",
       "    .dataframe tbody tr th:only-of-type {\n",
       "        vertical-align: middle;\n",
       "    }\n",
       "\n",
       "    .dataframe tbody tr th {\n",
       "        vertical-align: top;\n",
       "    }\n",
       "\n",
       "    .dataframe thead th {\n",
       "        text-align: right;\n",
       "    }\n",
       "</style>\n",
       "<table border=\"1\" class=\"dataframe\">\n",
       "  <thead>\n",
       "    <tr style=\"text-align: right;\">\n",
       "      <th></th>\n",
       "      <th>Model</th>\n",
       "      <th>MSE</th>\n",
       "      <th>R^2</th>\n",
       "    </tr>\n",
       "  </thead>\n",
       "  <tbody>\n",
       "    <tr>\n",
       "      <th>0</th>\n",
       "      <td>Linear Regression</td>\n",
       "      <td>214.960</td>\n",
       "      <td>0.972</td>\n",
       "    </tr>\n",
       "    <tr>\n",
       "      <th>1</th>\n",
       "      <td>Lasso(l1)</td>\n",
       "      <td>1466.682</td>\n",
       "      <td>0.471</td>\n",
       "    </tr>\n",
       "    <tr>\n",
       "      <th>2</th>\n",
       "      <td>Ridge(l2)</td>\n",
       "      <td>218.181</td>\n",
       "      <td>0.971</td>\n",
       "    </tr>\n",
       "  </tbody>\n",
       "</table>\n",
       "</div>"
      ],
      "text/plain": [
       "               Model       MSE    R^2\n",
       "0  Linear Regression   214.960  0.972\n",
       "1          Lasso(l1)  1466.682  0.471\n",
       "2          Ridge(l2)   218.181  0.971"
      ]
     },
     "execution_count": 7,
     "metadata": {},
     "output_type": "execute_result"
    }
   ],
   "source": [
    "results_df = pd.DataFrame([\n",
    "    {\n",
    "        'Model': linear_result['Model'],\n",
    "        'MSE': linear_result['MSE'],\n",
    "        'R^2': linear_result['R^2']\n",
    "    },\n",
    "    {\n",
    "        'Model': lasso_result['Model'],\n",
    "        'MSE': lasso_result['MSE'],\n",
    "        'R^2': lasso_result['R^2']\n",
    "    },\n",
    "    {\n",
    "        'Model': ridge_result['Model'],\n",
    "        'MSE': ridge_result['MSE'],\n",
    "        'R^2': ridge_result['R^2']\n",
    "    }\n",
    "]).round(3)\n",
    "\n",
    "print(\"🔍 Model Performance Comparison:\")\n",
    "results_df"
   ]
  },
  {
   "cell_type": "markdown",
   "id": "00a59024",
   "metadata": {},
   "source": [
    "# 📈 6. Plot Coefficient Comparison"
   ]
  },
  {
   "cell_type": "code",
   "execution_count": 8,
   "id": "0003d5ec",
   "metadata": {},
   "outputs": [
    {
     "data": {
      "image/png": "[encoded data removed]",
      "text/plain": [
       "<Figure size 1200x600 with 1 Axes>"
      ]
     },
     "metadata": {},
     "output_type": "display_data"
    }
   ],
   "source": [
    "plt.figure(figsize=(12, 6))\n",
    "plt.plot(linear_result['coef'], label='Linear Regression', marker='o')\n",
    "plt.plot(lasso_result['coef'], label='Lasso (L1)', marker='s')\n",
    "plt.plot(ridge_result['coef'], label='Ridge (L2)', marker='^')\n",
    "plt.axhline(0, color='gray', linestyle='--')\n",
    "plt.title(\"📉 Coefficient Comparison: L1 vs L2 vs No Reg.\")\n",
    "plt.xlabel(\"Feature Index\")\n",
    "plt.ylabel(\"Coefficient Value\")\n",
    "plt.legend()\n",
    "plt.grid(True)\n",
    "plt.show()"
   ]
  },
  {
   "cell_type": "markdown",
   "id": "4b0d64e8",
   "metadata": {},
   "source": [
    "### 📌 Interpretation\n",
    "**Linear Regression:** Highest R², but may overfit or use irrelevant features.\n",
    "\n",
    "**Lasso (L1):** Slightly lower R², but some coefficients are exactly zero → ideal when you want a simpler, more interpretable model.\n",
    "\n",
    "**Ridge (L2):** Balanced shrinkage; no coefficient becomes zero, but handles multicollinearity well.\n",
    "\n"
   ]
  },
  {
   "cell_type": "markdown",
   "id": "89c4ca12",
   "metadata": {},
   "source": [
    "## Below is a breakdown of how to use L1 and L2 regularization in various ML models with code examples."
   ]
  },
  {
   "cell_type": "code",
   "execution_count": 9,
   "id": "ec281816",
   "metadata": {},
   "outputs": [
    {
     "data": {
      "text/plain": [
       "((800, 10), (800,))"
      ]
     },
     "execution_count": 9,
     "metadata": {},
     "output_type": "execute_result"
    }
   ],
   "source": [
    "X_train.shape, y_train.shape"
   ]
  },
  {
   "cell_type": "markdown",
   "id": "2ef1219b",
   "metadata": {},
   "source": [
    "### ✅ 1. Logistic Regression – Use penalty='l1' or 'l2'"
   ]
  },
  {
   "cell_type": "code",
   "execution_count": 10,
   "id": "44c1ded5",
   "metadata": {},
   "outputs": [],
   "source": [
    "from sklearn.linear_model import LogisticRegression\n",
    "# 2. Convert regression target into binary classification (e.g. class 0 or 1)\n",
    "y_binary = (y > y.mean()).astype(int)  # Class 1 if above mean, else 0\n",
    "# 3. Train-test split just for this logistic regressor \n",
    "X_train_copy, X_test_copy, y_train_copy, y_test_copy = train_test_split(X, y_binary, test_size=0.2, random_state=42)"
   ]
  },
  {
   "cell_type": "markdown",
   "id": "2e86596c",
   "metadata": {},
   "source": [
    "### Train L1 Regularized Logistic Regression"
   ]
  },
  {
   "cell_type": "code",
   "execution_count": 11,
   "id": "7d775e28",
   "metadata": {},
   "outputs": [
    {
     "data": {
      "text/plain": [
       "{'Model': 'LogReg_L1',\n",
       " 'Accuracy_Score': 0.935,\n",
       " 'coef': array([[-0.02834135,  0.        ,  2.90562106,  0.        ,  1.73736337,\n",
       "          0.01824192, -0.01799553,  3.15270767,  0.        ,  0.        ]])}"
      ]
     },
     "execution_count": 11,
     "metadata": {},
     "output_type": "execute_result"
    }
   ],
   "source": [
    "logreg_l1_model = LogisticRegression(penalty=\"l1\",solver=\"liblinear\" ,C=0.1, random_state=42)\n",
    "logreg_l1_model.fit(X_train_copy, y_train_copy)\n",
    "y_pred_logreg_l1 = logreg_l1_model.predict(X_test_copy)\n",
    "logreg_l1_result = {\n",
    "    \"Model\": \"LogReg_L1\",\n",
    "    \"Accuracy_Score\": accuracy_score(y_test_copy, y_pred_logreg_l1),\n",
    "    \"coef\": logreg_l1_model.coef_\n",
    "}\n",
    "logreg_l1_result"
   ]
  },
  {
   "cell_type": "markdown",
   "id": "95f5ea91",
   "metadata": {},
   "source": [
    "### Train L2 Regularized Logistic Regression"
   ]
  },
  {
   "cell_type": "code",
   "execution_count": 12,
   "id": "4312200a",
   "metadata": {},
   "outputs": [
    {
     "data": {
      "text/plain": [
       "{'Model': 'LogReg_L2',\n",
       " 'Accuracy_Score': 0.92,\n",
       " 'coef': array([[-0.17453375,  0.02113389,  2.05036846, -0.02013051,  1.28277259,\n",
       "          0.14501684, -0.1388447 ,  2.22008242,  0.02795822, -0.01333435]])}"
      ]
     },
     "execution_count": 12,
     "metadata": {},
     "output_type": "execute_result"
    }
   ],
   "source": [
    "logreg_l2_model = LogisticRegression(penalty=\"l2\", C=0.1, random_state=42)\n",
    "logreg_l2_model.fit(X_train_copy, y_train_copy)\n",
    "y_pred_logreg_l2 = logreg_l2_model.predict(X_test_copy)\n",
    "logreg_l2_result = {\n",
    "    \"Model\": \"LogReg_L2\",\n",
    "    \"Accuracy_Score\": accuracy_score(y_test_copy, y_pred_logreg_l2),\n",
    "    \"coef\": logreg_l2_model.coef_\n",
    "}\n",
    "logreg_l2_result"
   ]
  },
  {
   "cell_type": "markdown",
   "id": "80e0a672",
   "metadata": {},
   "source": [
    "### ✅ 2. Support Vector Machine (SVM) – L2 Regularization by Default"
   ]
  },
  {
   "cell_type": "code",
   "execution_count": 13,
   "id": "356ed606",
   "metadata": {},
   "outputs": [
    {
     "data": {
      "text/plain": [
       "{'Model': 'SVM Regressor',\n",
       " 'MSE': 220.8639583825852,\n",
       " 'R^2': 0.9709806007787432,\n",
       " 'coef': array([[-0.56357075,  0.25624909, 52.44310189, -0.44707476, 31.32945864,\n",
       "          0.17114549, -1.47092153, 55.06860079,  0.08340718, -1.07225292]])}"
      ]
     },
     "execution_count": 13,
     "metadata": {},
     "output_type": "execute_result"
    }
   ],
   "source": [
    "# L2-regularized SVM (default)\n",
    " # Smaller C = stronger regularization\n",
    "svr_l2_model = SVR(kernel=\"linear\", C=1.0)\n",
    "svr_l2_model.fit(X_train, y_train)\n",
    "y_pred_svr = svr_l2_model.predict(X_test)\n",
    "svr_result = {\n",
    "    \"Model\": \"SVM Regressor\",\n",
    "    \"MSE\": mean_squared_error(y_test, y_pred_svr),\n",
    "    \"R^2\": r2_score(y_test, y_pred_svr),\n",
    "    \"coef\": svr_l2_model.coef_\n",
    "}\n",
    "svr_result"
   ]
  },
  {
   "cell_type": "markdown",
   "id": "55ff02a2",
   "metadata": {},
   "source": [
    "**Unfortunately**, LinearSVR only supports L2 penalty. so we go with classification dataset for this now "
   ]
  },
  {
   "cell_type": "code",
   "execution_count": 14,
   "id": "5b24df5d",
   "metadata": {},
   "outputs": [
    {
     "data": {
      "text/plain": [
       "{'Model': 'LinearSVC',\n",
       " 'Accuracy_Score': 0.92,\n",
       " 'coef': array([[-0.56357075,  0.25624909, 52.44310189, -0.44707476, 31.32945864,\n",
       "          0.17114549, -1.47092153, 55.06860079,  0.08340718, -1.07225292]])}"
      ]
     },
     "execution_count": 14,
     "metadata": {},
     "output_type": "execute_result"
    }
   ],
   "source": [
    "svm_l1_model = LinearSVC(penalty='l1', dual=False, C=1.0)\n",
    "svm_l1_model.fit(X_train_copy, y_train_copy)\n",
    "y_pred_LinearSVC = svm_l1_model.predict(X_test_copy)\n",
    "\n",
    "linear_svc_result = {\n",
    "    \"Model\": \"LinearSVC\",\n",
    "    \"Accuracy_Score\": accuracy_score(y_test_copy, y_pred_LinearSVC),\n",
    "    \"coef\": svr_l2_model.coef_\n",
    "}\n",
    "linear_svc_result"
   ]
  },
  {
   "cell_type": "markdown",
   "id": "b96850b7",
   "metadata": {},
   "source": [
    "### ✅ 3. Random Forest / Tree Models – Use max_depth, min_samples_split, max_leaf_nodes to simulate regularization"
   ]
  },
  {
   "cell_type": "code",
   "execution_count": 15,
   "id": "da6e30e6",
   "metadata": {},
   "outputs": [
    {
     "data": {
      "text/plain": [
       "{'Model': 'RandomForestRegressor',\n",
       " 'MSE': 978.2699674092572,\n",
       " 'R^2': 0.8714647381206515}"
      ]
     },
     "execution_count": 15,
     "metadata": {},
     "output_type": "execute_result"
    }
   ],
   "source": [
    "random_fr_model = RandomForestRegressor(max_depth=5, min_samples_split=10, max_leaf_nodes=20)\n",
    "random_fr_model.fit(X_train, y_train)\n",
    "y_pred_random_fr = random_fr_model.predict(X_test)\n",
    "random_fr_result = {\n",
    "    \"Model\": \"RandomForestRegressor\",\n",
    "    \"MSE\": mean_squared_error(y_test, y_pred_random_fr),\n",
    "    \"R^2\": r2_score(y_test, y_pred_random_fr),\n",
    "}\n",
    "random_fr_result"
   ]
  },
  {
   "cell_type": "markdown",
   "id": "d6ffbb7e",
   "metadata": {},
   "source": [
    "### ✅ 4. XGBoost / LightGBM / CatBoost – Use reg_alpha (L1) and reg_lambda (L2)"
   ]
  },
  {
   "cell_type": "markdown",
   "id": "e032f66b",
   "metadata": {},
   "source": [
    "### XGBoost"
   ]
  },
  {
   "cell_type": "code",
   "execution_count": 16,
   "id": "8018d30f",
   "metadata": {},
   "outputs": [
    {
     "data": {
      "text/plain": [
       "{'Model': 'XGBRegressor', 'MSE': 490.81568558349943, 'R^2': 0.935511541003308}"
      ]
     },
     "execution_count": 16,
     "metadata": {},
     "output_type": "execute_result"
    }
   ],
   "source": [
    "xgb_model = XGBRegressor(reg_alpha = 1.0, reg_lambda = 0.5)\n",
    "xgb_model.fit(X_train, y_train)\n",
    "y_pred_xgb = xgb_model.predict(X_test)\n",
    "\n",
    "xgb_result = {\n",
    "    \"Model\": \"XGBRegressor\",\n",
    "    \"MSE\": mean_squared_error(y_test, y_pred_xgb),\n",
    "    \"R^2\": r2_score(y_test, y_pred_xgb),\n",
    "}\n",
    "xgb_result"
   ]
  },
  {
   "cell_type": "markdown",
   "id": "5272c7e7",
   "metadata": {},
   "source": [
    "### LightGBM"
   ]
  },
  {
   "cell_type": "code",
   "execution_count": 17,
   "id": "b13615d2",
   "metadata": {},
   "outputs": [
    {
     "name": "stdout",
     "output_type": "stream",
     "text": [
      "[LightGBM] [Info] Auto-choosing col-wise multi-threading, the overhead of testing was 0.000097 seconds.\n",
      "You can set `force_col_wise=true` to remove the overhead.\n",
      "[LightGBM] [Info] Total Bins 2550\n",
      "[LightGBM] [Info] Number of data points in the train set: 800, number of used features: 10\n",
      "[LightGBM] [Info] Start training from score 0.896971\n",
      "[LightGBM] [Warning] No further splits with positive gain, best gain: -inf\n",
      "[LightGBM] [Warning] No further splits with positive gain, best gain: -inf\n",
      "[LightGBM] [Warning] No further splits with positive gain, best gain: -inf\n",
      "[LightGBM] [Warning] No further splits with positive gain, best gain: -inf\n",
      "[LightGBM] [Warning] No further splits with positive gain, best gain: -inf\n",
      "[LightGBM] [Warning] No further splits with positive gain, best gain: -inf\n",
      "[LightGBM] [Warning] No further splits with positive gain, best gain: -inf\n",
      "[LightGBM] [Warning] No further splits with positive gain, best gain: -inf\n",
      "[LightGBM] [Warning] No further splits with positive gain, best gain: -inf\n",
      "[LightGBM] [Warning] No further splits with positive gain, best gain: -inf\n",
      "[LightGBM] [Warning] No further splits with positive gain, best gain: -inf\n",
      "[LightGBM] [Warning] No further splits with positive gain, best gain: -inf\n",
      "[LightGBM] [Warning] No further splits with positive gain, best gain: -inf\n",
      "[LightGBM] [Warning] No further splits with positive gain, best gain: -inf\n",
      "[LightGBM] [Warning] No further splits with positive gain, best gain: -inf\n",
      "[LightGBM] [Warning] No further splits with positive gain, best gain: -inf\n",
      "[LightGBM] [Warning] No further splits with positive gain, best gain: -inf\n",
      "[LightGBM] [Warning] No further splits with positive gain, best gain: -inf\n",
      "[LightGBM] [Warning] No further splits with positive gain, best gain: -inf\n",
      "[LightGBM] [Warning] No further splits with positive gain, best gain: -inf\n",
      "[LightGBM] [Warning] No further splits with positive gain, best gain: -inf\n",
      "[LightGBM] [Warning] No further splits with positive gain, best gain: -inf\n",
      "[LightGBM] [Warning] No further splits with positive gain, best gain: -inf\n",
      "[LightGBM] [Warning] No further splits with positive gain, best gain: -inf\n",
      "[LightGBM] [Warning] No further splits with positive gain, best gain: -inf\n",
      "[LightGBM] [Warning] No further splits with positive gain, best gain: -inf\n",
      "[LightGBM] [Warning] No further splits with positive gain, best gain: -inf\n",
      "[LightGBM] [Warning] No further splits with positive gain, best gain: -inf\n",
      "[LightGBM] [Warning] No further splits with positive gain, best gain: -inf\n",
      "[LightGBM] [Warning] No further splits with positive gain, best gain: -inf\n",
      "[LightGBM] [Warning] No further splits with positive gain, best gain: -inf\n",
      "[LightGBM] [Warning] No further splits with positive gain, best gain: -inf\n",
      "[LightGBM] [Warning] No further splits with positive gain, best gain: -inf\n"
     ]
    },
    {
     "data": {
      "text/plain": [
       "{'Model': 'LGBMRegressor',\n",
       " 'MSE': 415.10456842663507,\n",
       " 'R^2': 0.9454592533885788}"
      ]
     },
     "execution_count": 17,
     "metadata": {},
     "output_type": "execute_result"
    }
   ],
   "source": [
    "lgbm_model = LGBMRegressor(reg_alpha=1.0, reg_lambda=0.5)\n",
    "lgbm_model.fit(X_train, y_train)\n",
    "y_pred_lgbm = lgbm_model.predict(X_test)\n",
    "lgbm_result = {\n",
    "    \"Model\": \"LGBMRegressor\",\n",
    "    \"MSE\": mean_squared_error(y_test, y_pred_lgbm),\n",
    "    \"R^2\": r2_score(y_test, y_pred_lgbm),\n",
    "}\n",
    "lgbm_result"
   ]
  },
  {
   "cell_type": "markdown",
   "id": "7390243f",
   "metadata": {},
   "source": [
    "### ✅ 5. Neural Networks (Keras) – L1 and L2 in Dense Layers"
   ]
  },
  {
   "cell_type": "code",
   "execution_count": 24,
   "id": "155fd005",
   "metadata": {},
   "outputs": [
    {
     "name": "stdout",
     "output_type": "stream",
     "text": [
      "Epoch 1/50\n",
      "\u001b[1m25/25\u001b[0m \u001b[32m━━━━━━━━━━━━━━━━━━━━\u001b[0m\u001b[37m\u001b[0m \u001b[1m0s\u001b[0m 985us/step - loss: 7176.1152\n",
      "Epoch 2/50\n",
      "\u001b[1m25/25\u001b[0m \u001b[32m━━━━━━━━━━━━━━━━━━━━\u001b[0m\u001b[37m\u001b[0m \u001b[1m0s\u001b[0m 1ms/step - loss: 7674.7944 \n",
      "Epoch 3/50\n",
      "\u001b[1m25/25\u001b[0m \u001b[32m━━━━━━━━━━━━━━━━━━━━\u001b[0m\u001b[37m\u001b[0m \u001b[1m0s\u001b[0m 1ms/step - loss: 7378.6357 \n",
      "Epoch 4/50\n",
      "\u001b[1m25/25\u001b[0m \u001b[32m━━━━━━━━━━━━━━━━━━━━\u001b[0m\u001b[37m\u001b[0m \u001b[1m0s\u001b[0m 1ms/step - loss: 7102.8350 \n",
      "Epoch 5/50\n",
      "\u001b[1m25/25\u001b[0m \u001b[32m━━━━━━━━━━━━━━━━━━━━\u001b[0m\u001b[37m\u001b[0m \u001b[1m0s\u001b[0m 1ms/step - loss: 7211.9917 \n",
      "Epoch 6/50\n",
      "\u001b[1m25/25\u001b[0m \u001b[32m━━━━━━━━━━━━━━━━━━━━\u001b[0m\u001b[37m\u001b[0m \u001b[1m0s\u001b[0m 1ms/step - loss: 7157.1875 \n",
      "Epoch 7/50\n",
      "\u001b[1m25/25\u001b[0m \u001b[32m━━━━━━━━━━━━━━━━━━━━\u001b[0m\u001b[37m\u001b[0m \u001b[1m0s\u001b[0m 966us/step - loss: 6913.8926\n",
      "Epoch 8/50\n",
      "\u001b[1m25/25\u001b[0m \u001b[32m━━━━━━━━━━━━━━━━━━━━\u001b[0m\u001b[37m\u001b[0m \u001b[1m0s\u001b[0m 953us/step - loss: 7385.6025\n",
      "Epoch 9/50\n",
      "\u001b[1m25/25\u001b[0m \u001b[32m━━━━━━━━━━━━━━━━━━━━\u001b[0m\u001b[37m\u001b[0m \u001b[1m0s\u001b[0m 1ms/step - loss: 6331.6084 \n",
      "Epoch 10/50\n",
      "\u001b[1m25/25\u001b[0m \u001b[32m━━━━━━━━━━━━━━━━━━━━\u001b[0m\u001b[37m\u001b[0m \u001b[1m0s\u001b[0m 954us/step - loss: 6963.9463\n",
      "Epoch 11/50\n",
      "\u001b[1m25/25\u001b[0m \u001b[32m━━━━━━━━━━━━━━━━━━━━\u001b[0m\u001b[37m\u001b[0m \u001b[1m0s\u001b[0m 961us/step - loss: 6362.9136\n",
      "Epoch 12/50\n",
      "\u001b[1m25/25\u001b[0m \u001b[32m━━━━━━━━━━━━━━━━━━━━\u001b[0m\u001b[37m\u001b[0m \u001b[1m0s\u001b[0m 986us/step - loss: 5596.2808\n",
      "Epoch 13/50\n",
      "\u001b[1m25/25\u001b[0m \u001b[32m━━━━━━━━━━━━━━━━━━━━\u001b[0m\u001b[37m\u001b[0m \u001b[1m0s\u001b[0m 1ms/step - loss: 5914.8149 \n",
      "Epoch 14/50\n",
      "\u001b[1m25/25\u001b[0m \u001b[32m━━━━━━━━━━━━━━━━━━━━\u001b[0m\u001b[37m\u001b[0m \u001b[1m0s\u001b[0m 998us/step - loss: 5633.0879\n",
      "Epoch 15/50\n",
      "\u001b[1m25/25\u001b[0m \u001b[32m━━━━━━━━━━━━━━━━━━━━\u001b[0m\u001b[37m\u001b[0m \u001b[1m0s\u001b[0m 996us/step - loss: 4886.5234\n",
      "Epoch 16/50\n",
      "\u001b[1m25/25\u001b[0m \u001b[32m━━━━━━━━━━━━━━━━━━━━\u001b[0m\u001b[37m\u001b[0m \u001b[1m0s\u001b[0m 983us/step - loss: 5139.7910\n",
      "Epoch 17/50\n",
      "\u001b[1m25/25\u001b[0m \u001b[32m━━━━━━━━━━━━━━━━━━━━\u001b[0m\u001b[37m\u001b[0m \u001b[1m0s\u001b[0m 986us/step - loss: 4543.8364\n",
      "Epoch 18/50\n",
      "\u001b[1m25/25\u001b[0m \u001b[32m━━━━━━━━━━━━━━━━━━━━\u001b[0m\u001b[37m\u001b[0m \u001b[1m0s\u001b[0m 1ms/step - loss: 4081.4573 \n",
      "Epoch 19/50\n",
      "\u001b[1m25/25\u001b[0m \u001b[32m━━━━━━━━━━━━━━━━━━━━\u001b[0m\u001b[37m\u001b[0m \u001b[1m0s\u001b[0m 1ms/step - loss: 3818.5625 \n",
      "Epoch 20/50\n",
      "\u001b[1m25/25\u001b[0m \u001b[32m━━━━━━━━━━━━━━━━━━━━\u001b[0m\u001b[37m\u001b[0m \u001b[1m0s\u001b[0m 1ms/step - loss: 3180.1982 \n",
      "Epoch 21/50\n",
      "\u001b[1m25/25\u001b[0m \u001b[32m━━━━━━━━━━━━━━━━━━━━\u001b[0m\u001b[37m\u001b[0m \u001b[1m0s\u001b[0m 971us/step - loss: 2968.6101\n",
      "Epoch 22/50\n",
      "\u001b[1m25/25\u001b[0m \u001b[32m━━━━━━━━━━━━━━━━━━━━\u001b[0m\u001b[37m\u001b[0m \u001b[1m0s\u001b[0m 966us/step - loss: 2810.5166\n",
      "Epoch 23/50\n",
      "\u001b[1m25/25\u001b[0m \u001b[32m━━━━━━━━━━━━━━━━━━━━\u001b[0m\u001b[37m\u001b[0m \u001b[1m0s\u001b[0m 1ms/step - loss: 2498.9160 \n",
      "Epoch 24/50\n",
      "\u001b[1m25/25\u001b[0m \u001b[32m━━━━━━━━━━━━━━━━━━━━\u001b[0m\u001b[37m\u001b[0m \u001b[1m0s\u001b[0m 977us/step - loss: 2193.6030\n",
      "Epoch 25/50\n",
      "\u001b[1m25/25\u001b[0m \u001b[32m━━━━━━━━━━━━━━━━━━━━\u001b[0m\u001b[37m\u001b[0m \u001b[1m0s\u001b[0m 994us/step - loss: 1905.1279\n",
      "Epoch 26/50\n",
      "\u001b[1m25/25\u001b[0m \u001b[32m━━━━━━━━━━━━━━━━━━━━\u001b[0m\u001b[37m\u001b[0m \u001b[1m0s\u001b[0m 961us/step - loss: 1717.7739\n",
      "Epoch 27/50\n",
      "\u001b[1m25/25\u001b[0m \u001b[32m━━━━━━━━━━━━━━━━━━━━\u001b[0m\u001b[37m\u001b[0m \u001b[1m0s\u001b[0m 965us/step - loss: 1359.0688\n",
      "Epoch 28/50\n",
      "\u001b[1m25/25\u001b[0m \u001b[32m━━━━━━━━━━━━━━━━━━━━\u001b[0m\u001b[37m\u001b[0m \u001b[1m0s\u001b[0m 967us/step - loss: 1268.0050\n",
      "Epoch 29/50\n",
      "\u001b[1m25/25\u001b[0m \u001b[32m━━━━━━━━━━━━━━━━━━━━\u001b[0m\u001b[37m\u001b[0m \u001b[1m0s\u001b[0m 994us/step - loss: 1182.4130\n",
      "Epoch 30/50\n",
      "\u001b[1m25/25\u001b[0m \u001b[32m━━━━━━━━━━━━━━━━━━━━\u001b[0m\u001b[37m\u001b[0m \u001b[1m0s\u001b[0m 1ms/step - loss: 951.5234  \n",
      "Epoch 31/50\n",
      "\u001b[1m25/25\u001b[0m \u001b[32m━━━━━━━━━━━━━━━━━━━━\u001b[0m\u001b[37m\u001b[0m \u001b[1m0s\u001b[0m 1ms/step - loss: 828.2047 \n",
      "Epoch 32/50\n",
      "\u001b[1m25/25\u001b[0m \u001b[32m━━━━━━━━━━━━━━━━━━━━\u001b[0m\u001b[37m\u001b[0m \u001b[1m0s\u001b[0m 986us/step - loss: 794.0728\n",
      "Epoch 33/50\n",
      "\u001b[1m25/25\u001b[0m \u001b[32m━━━━━━━━━━━━━━━━━━━━\u001b[0m\u001b[37m\u001b[0m \u001b[1m0s\u001b[0m 980us/step - loss: 683.7333\n",
      "Epoch 34/50\n",
      "\u001b[1m25/25\u001b[0m \u001b[32m━━━━━━━━━━━━━━━━━━━━\u001b[0m\u001b[37m\u001b[0m \u001b[1m0s\u001b[0m 1ms/step - loss: 663.7424 \n",
      "Epoch 35/50\n",
      "\u001b[1m25/25\u001b[0m \u001b[32m━━━━━━━━━━━━━━━━━━━━\u001b[0m\u001b[37m\u001b[0m \u001b[1m0s\u001b[0m 1ms/step - loss: 538.6461 \n",
      "Epoch 36/50\n",
      "\u001b[1m25/25\u001b[0m \u001b[32m━━━━━━━━━━━━━━━━━━━━\u001b[0m\u001b[37m\u001b[0m \u001b[1m0s\u001b[0m 968us/step - loss: 477.1982\n",
      "Epoch 37/50\n",
      "\u001b[1m25/25\u001b[0m \u001b[32m━━━━━━━━━━━━━━━━━━━━\u001b[0m\u001b[37m\u001b[0m \u001b[1m0s\u001b[0m 979us/step - loss: 527.8103\n",
      "Epoch 38/50\n",
      "\u001b[1m25/25\u001b[0m \u001b[32m━━━━━━━━━━━━━━━━━━━━\u001b[0m\u001b[37m\u001b[0m \u001b[1m0s\u001b[0m 991us/step - loss: 533.1970\n",
      "Epoch 39/50\n",
      "\u001b[1m25/25\u001b[0m \u001b[32m━━━━━━━━━━━━━━━━━━━━\u001b[0m\u001b[37m\u001b[0m \u001b[1m0s\u001b[0m 984us/step - loss: 449.5770\n",
      "Epoch 40/50\n",
      "\u001b[1m25/25\u001b[0m \u001b[32m━━━━━━━━━━━━━━━━━━━━\u001b[0m\u001b[37m\u001b[0m \u001b[1m0s\u001b[0m 983us/step - loss: 384.5987\n",
      "Epoch 41/50\n",
      "\u001b[1m25/25\u001b[0m \u001b[32m━━━━━━━━━━━━━━━━━━━━\u001b[0m\u001b[37m\u001b[0m \u001b[1m0s\u001b[0m 987us/step - loss: 376.5681\n",
      "Epoch 42/50\n",
      "\u001b[1m25/25\u001b[0m \u001b[32m━━━━━━━━━━━━━━━━━━━━\u001b[0m\u001b[37m\u001b[0m \u001b[1m0s\u001b[0m 975us/step - loss: 349.5217\n",
      "Epoch 43/50\n",
      "\u001b[1m25/25\u001b[0m \u001b[32m━━━━━━━━━━━━━━━━━━━━\u001b[0m\u001b[37m\u001b[0m \u001b[1m0s\u001b[0m 983us/step - loss: 344.9041\n",
      "Epoch 44/50\n",
      "\u001b[1m25/25\u001b[0m \u001b[32m━━━━━━━━━━━━━━━━━━━━\u001b[0m\u001b[37m\u001b[0m \u001b[1m0s\u001b[0m 996us/step - loss: 363.7757\n",
      "Epoch 45/50\n",
      "\u001b[1m25/25\u001b[0m \u001b[32m━━━━━━━━━━━━━━━━━━━━\u001b[0m\u001b[37m\u001b[0m \u001b[1m0s\u001b[0m 978us/step - loss: 361.7619\n",
      "Epoch 46/50\n",
      "\u001b[1m25/25\u001b[0m \u001b[32m━━━━━━━━━━━━━━━━━━━━\u001b[0m\u001b[37m\u001b[0m \u001b[1m0s\u001b[0m 980us/step - loss: 359.2148\n",
      "Epoch 47/50\n",
      "\u001b[1m25/25\u001b[0m \u001b[32m━━━━━━━━━━━━━━━━━━━━\u001b[0m\u001b[37m\u001b[0m \u001b[1m0s\u001b[0m 1ms/step - loss: 370.1351 \n",
      "Epoch 48/50\n",
      "\u001b[1m25/25\u001b[0m \u001b[32m━━━━━━━━━━━━━━━━━━━━\u001b[0m\u001b[37m\u001b[0m \u001b[1m0s\u001b[0m 979us/step - loss: 342.2075\n",
      "Epoch 49/50\n",
      "\u001b[1m25/25\u001b[0m \u001b[32m━━━━━━━━━━━━━━━━━━━━\u001b[0m\u001b[37m\u001b[0m \u001b[1m0s\u001b[0m 962us/step - loss: 360.2505\n",
      "Epoch 50/50\n",
      "\u001b[1m25/25\u001b[0m \u001b[32m━━━━━━━━━━━━━━━━━━━━\u001b[0m\u001b[37m\u001b[0m \u001b[1m0s\u001b[0m 983us/step - loss: 349.4986\n",
      "\u001b[1m7/7\u001b[0m \u001b[32m━━━━━━━━━━━━━━━━━━━━\u001b[0m\u001b[37m\u001b[0m \u001b[1m0s\u001b[0m 4ms/step \n"
     ]
    },
    {
     "data": {
      "text/plain": [
       "array([[ 122.86266   ],\n",
       "       [ -51.258514  ],\n",
       "       [   0.95214397],\n",
       "       [  29.868242  ],\n",
       "       [  61.294956  ],\n",
       "       [ -43.596222  ],\n",
       "       [ -77.19449   ],\n",
       "       [-107.74395   ],\n",
       "       [  88.593315  ],\n",
       "       [ -28.127954  ],\n",
       "       [ -26.424406  ],\n",
       "       [ -22.577211  ],\n",
       "       [  63.928997  ],\n",
       "       [ -20.169394  ],\n",
       "       [ -53.799812  ],\n",
       "       [-121.330475  ],\n",
       "       [-165.68427   ],\n",
       "       [-124.97791   ],\n",
       "       [ -94.798775  ],\n",
       "       [ 180.87357   ],\n",
       "       [ -11.810659  ],\n",
       "       [ -38.36953   ],\n",
       "       [  44.11989   ],\n",
       "       [ -60.380222  ],\n",
       "       [ -61.627045  ],\n",
       "       [  59.387627  ],\n",
       "       [ 107.06703   ],\n",
       "       [ -46.792374  ],\n",
       "       [-112.27697   ],\n",
       "       [  83.251785  ],\n",
       "       [-112.66348   ],\n",
       "       [  35.449825  ],\n",
       "       [  87.56027   ],\n",
       "       [ -25.974566  ],\n",
       "       [ -48.273228  ],\n",
       "       [  96.6921    ],\n",
       "       [ -31.634552  ],\n",
       "       [  32.489117  ],\n",
       "       [-104.52637   ],\n",
       "       [ -16.033863  ],\n",
       "       [-109.077095  ],\n",
       "       [  37.202797  ],\n",
       "       [ 124.74859   ],\n",
       "       [  49.17942   ],\n",
       "       [-124.96378   ],\n",
       "       [ -18.400785  ],\n",
       "       [  80.03681   ],\n",
       "       [ -74.17585   ],\n",
       "       [   5.6345916 ],\n",
       "       [ 103.66291   ],\n",
       "       [ 112.39644   ],\n",
       "       [ -75.167366  ],\n",
       "       [ -94.8863    ],\n",
       "       [   0.42049485],\n",
       "       [  96.313034  ],\n",
       "       [ -12.932666  ],\n",
       "       [  61.39928   ],\n",
       "       [ 106.60888   ],\n",
       "       [  61.439857  ],\n",
       "       [ 106.78387   ],\n",
       "       [  21.251719  ],\n",
       "       [  99.96662   ],\n",
       "       [  91.625626  ],\n",
       "       [-123.83349   ],\n",
       "       [ -41.751797  ],\n",
       "       [  -0.90759605],\n",
       "       [ 189.83441   ],\n",
       "       [ 137.38962   ],\n",
       "       [  60.821392  ],\n",
       "       [  -5.638797  ],\n",
       "       [  73.33805   ],\n",
       "       [ 111.26672   ],\n",
       "       [ 118.00142   ],\n",
       "       [  19.407013  ],\n",
       "       [-103.152214  ],\n",
       "       [  26.166323  ],\n",
       "       [ -79.48453   ],\n",
       "       [ -23.22996   ],\n",
       "       [-120.75614   ],\n",
       "       [ 122.6395    ],\n",
       "       [  42.87531   ],\n",
       "       [ -59.722168  ],\n",
       "       [ -22.836369  ],\n",
       "       [ 119.40856   ],\n",
       "       [ 107.13236   ],\n",
       "       [ 220.43091   ],\n",
       "       [ -31.203873  ],\n",
       "       [  -9.497105  ],\n",
       "       [  48.767387  ],\n",
       "       [-138.37811   ],\n",
       "       [ 117.304405  ],\n",
       "       [  40.31278   ],\n",
       "       [-121.690445  ],\n",
       "       [ -83.98929   ],\n",
       "       [-103.38044   ],\n",
       "       [ 100.47843   ],\n",
       "       [ -21.266493  ],\n",
       "       [ -38.83327   ],\n",
       "       [ -73.83948   ],\n",
       "       [ -88.6168    ],\n",
       "       [ -27.163927  ],\n",
       "       [  43.22942   ],\n",
       "       [-105.1356    ],\n",
       "       [ -42.3815    ],\n",
       "       [-118.94168   ],\n",
       "       [  41.403076  ],\n",
       "       [ -71.84984   ],\n",
       "       [-109.60772   ],\n",
       "       [ -98.88918   ],\n",
       "       [ -15.097551  ],\n",
       "       [ 169.43356   ],\n",
       "       [-179.79437   ],\n",
       "       [-128.84334   ],\n",
       "       [ -96.38116   ],\n",
       "       [-106.08406   ],\n",
       "       [-122.79333   ],\n",
       "       [ -36.645702  ],\n",
       "       [-123.50173   ],\n",
       "       [-106.85601   ],\n",
       "       [  34.64945   ],\n",
       "       [  -4.9161515 ],\n",
       "       [  36.03277   ],\n",
       "       [  17.675875  ],\n",
       "       [ -95.44846   ],\n",
       "       [  87.8568    ],\n",
       "       [  28.550583  ],\n",
       "       [  13.369191  ],\n",
       "       [-116.598145  ],\n",
       "       [  94.3135    ],\n",
       "       [-105.27337   ],\n",
       "       [ -79.68032   ],\n",
       "       [  94.26685   ],\n",
       "       [  86.140785  ],\n",
       "       [ -86.04862   ],\n",
       "       [  71.00944   ],\n",
       "       [  14.529427  ],\n",
       "       [ 105.5867    ],\n",
       "       [   7.9663167 ],\n",
       "       [ 102.51468   ],\n",
       "       [ 115.201515  ],\n",
       "       [  18.861204  ],\n",
       "       [  22.426573  ],\n",
       "       [-134.8527    ],\n",
       "       [  22.492237  ],\n",
       "       [ -18.943563  ],\n",
       "       [ 112.59412   ],\n",
       "       [ -91.42036   ],\n",
       "       [ -43.049767  ],\n",
       "       [   3.7630527 ],\n",
       "       [  74.318954  ],\n",
       "       [ 144.41833   ],\n",
       "       [ 118.61599   ],\n",
       "       [  44.27191   ],\n",
       "       [-118.380745  ],\n",
       "       [  98.10073   ],\n",
       "       [-116.227745  ],\n",
       "       [ -43.017826  ],\n",
       "       [ -92.9389    ],\n",
       "       [ -50.119667  ],\n",
       "       [  40.99889   ],\n",
       "       [ 111.48005   ],\n",
       "       [-101.87961   ],\n",
       "       [ -96.86188   ],\n",
       "       [ -16.028212  ],\n",
       "       [ -77.97818   ],\n",
       "       [ -16.982033  ],\n",
       "       [  77.69887   ],\n",
       "       [ -73.96456   ],\n",
       "       [  19.61309   ],\n",
       "       [  98.23589   ],\n",
       "       [  28.107988  ],\n",
       "       [ -65.81837   ],\n",
       "       [ -82.96145   ],\n",
       "       [  63.889164  ],\n",
       "       [ -90.39437   ],\n",
       "       [  50.30736   ],\n",
       "       [  -5.6914105 ],\n",
       "       [  76.99551   ],\n",
       "       [ -22.911354  ],\n",
       "       [ 115.1762    ],\n",
       "       [ -68.50532   ],\n",
       "       [ 102.69575   ],\n",
       "       [  28.290173  ],\n",
       "       [  18.043182  ],\n",
       "       [ 131.32889   ],\n",
       "       [-133.13455   ],\n",
       "       [ -50.445423  ],\n",
       "       [ -58.7257    ],\n",
       "       [  20.270174  ],\n",
       "       [ 107.131935  ],\n",
       "       [ -60.39091   ],\n",
       "       [ -58.61671   ],\n",
       "       [  51.750374  ],\n",
       "       [  59.89819   ],\n",
       "       [ -37.82239   ],\n",
       "       [  91.805046  ],\n",
       "       [  76.66303   ],\n",
       "       [  99.90036   ],\n",
       "       [ 101.897736  ],\n",
       "       [  41.45686   ]], dtype=float32)"
      ]
     },
     "execution_count": 24,
     "metadata": {},
     "output_type": "execute_result"
    }
   ],
   "source": [
    "nn_model = Sequential([\n",
    "    Dense(64, input_dim=10, activation='relu',\n",
    "          kernel_regularizer=regularizers.l1(0.01)),  # L1 Regularization\n",
    "    Dense(1, activation='linear')\n",
    "])\n",
    "nn_model.compile(optimizer='adam', loss='mse')\n",
    "nn_model.fit(X_train, y_train, epochs=50, batch_size=32)\n",
    "y_pred_nn = nn_model.predict(X_test)\n",
    "\n",
    "y_pred_nn"
   ]
  },
  {
   "cell_type": "code",
   "execution_count": 26,
   "id": "6fcc6a06",
   "metadata": {},
   "outputs": [
    {
     "data": {
      "text/plain": [
       "{'Model': 'Neural Network',\n",
       " 'MSE': 350.76128869189955,\n",
       " 'R^2': 0.9539133413054172}"
      ]
     },
     "execution_count": 26,
     "metadata": {},
     "output_type": "execute_result"
    }
   ],
   "source": [
    "nn_model_result = {\n",
    "    \"Model\": \"Neural Network\",\n",
    "    \"MSE\": mean_squared_error(y_test, y_pred_nn),\n",
    "    \"R^2\": r2_score(y_test, y_pred_nn),\n",
    "}\n",
    "nn_model_result"
   ]
  },
  {
   "cell_type": "markdown",
   "id": "dc56f683",
   "metadata": {},
   "source": [
    "You can use regularizers.l2() or regularizers.l1_l2() as well."
   ]
  }
 ],
 "metadata": {
  "kernelspec": {
   "display_name": "myenv",
   "language": "python",
   "name": "python3"
  },
  "language_info": {
   "codemirror_mode": {
    "name": "ipython",
    "version": 3
   },
   "file_extension": ".py",
   "mimetype": "text/x-python",
   "name": "python",
   "nbconvert_exporter": "python",
   "pygments_lexer": "ipython3",
   "version": "3.10.13"
  }
 },
 "nbformat": 4,
 "nbformat_minor": 5
}
